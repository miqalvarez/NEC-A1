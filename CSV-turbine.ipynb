{
 "cells": [
  {
   "cell_type": "markdown",
   "metadata": {},
   "source": [
    "# A1-turbine.txt"
   ]
  },
  {
   "cell_type": "markdown",
   "metadata": {},
   "source": [
    "### Read data"
   ]
  },
  {
   "cell_type": "code",
   "execution_count": 13,
   "metadata": {},
   "outputs": [
    {
     "data": {
      "text/html": [
       "<div>\n",
       "<style scoped>\n",
       "    .dataframe tbody tr th:only-of-type {\n",
       "        vertical-align: middle;\n",
       "    }\n",
       "\n",
       "    .dataframe tbody tr th {\n",
       "        vertical-align: top;\n",
       "    }\n",
       "\n",
       "    .dataframe thead th {\n",
       "        text-align: right;\n",
       "    }\n",
       "</style>\n",
       "<table border=\"1\" class=\"dataframe\">\n",
       "  <thead>\n",
       "    <tr style=\"text-align: right;\">\n",
       "      <th></th>\n",
       "      <th>height_over_sea_level</th>\n",
       "      <th>fall</th>\n",
       "      <th>net_fall</th>\n",
       "      <th>flow</th>\n",
       "      <th>power_of_hydroelectrical_turbine</th>\n",
       "    </tr>\n",
       "  </thead>\n",
       "  <tbody>\n",
       "    <tr>\n",
       "      <th>0</th>\n",
       "      <td>624.0</td>\n",
       "      <td>89.16</td>\n",
       "      <td>89.765</td>\n",
       "      <td>3.5</td>\n",
       "      <td>2512.85</td>\n",
       "    </tr>\n",
       "    <tr>\n",
       "      <th>1</th>\n",
       "      <td>628.0</td>\n",
       "      <td>93.16</td>\n",
       "      <td>93.765</td>\n",
       "      <td>3.5</td>\n",
       "      <td>2583.79</td>\n",
       "    </tr>\n",
       "    <tr>\n",
       "      <th>2</th>\n",
       "      <td>602.0</td>\n",
       "      <td>67.84</td>\n",
       "      <td>66.415</td>\n",
       "      <td>6.5</td>\n",
       "      <td>3748.77</td>\n",
       "    </tr>\n",
       "    <tr>\n",
       "      <th>3</th>\n",
       "      <td>599.0</td>\n",
       "      <td>64.84</td>\n",
       "      <td>63.415</td>\n",
       "      <td>6.5</td>\n",
       "      <td>3520.65</td>\n",
       "    </tr>\n",
       "    <tr>\n",
       "      <th>4</th>\n",
       "      <td>630.0</td>\n",
       "      <td>94.69</td>\n",
       "      <td>93.540</td>\n",
       "      <td>8.0</td>\n",
       "      <td>6673.84</td>\n",
       "    </tr>\n",
       "  </tbody>\n",
       "</table>\n",
       "</div>"
      ],
      "text/plain": [
       "   height_over_sea_level   fall  net_fall  flow  \\\n",
       "0                  624.0  89.16    89.765   3.5   \n",
       "1                  628.0  93.16    93.765   3.5   \n",
       "2                  602.0  67.84    66.415   6.5   \n",
       "3                  599.0  64.84    63.415   6.5   \n",
       "4                  630.0  94.69    93.540   8.0   \n",
       "\n",
       "   power_of_hydroelectrical_turbine  \n",
       "0                           2512.85  \n",
       "1                           2583.79  \n",
       "2                           3748.77  \n",
       "3                           3520.65  \n",
       "4                           6673.84  "
      ]
     },
     "execution_count": 13,
     "metadata": {},
     "output_type": "execute_result"
    }
   ],
   "source": [
    "import pandas as pd\n",
    "import numpy as np\n",
    "import matplotlib.pyplot as plt\n",
    "\n",
    "# Read the data\n",
    "df = pd.read_csv('A1-turbine.txt' , sep='\\t')\n",
    "\n",
    "# Print the first 5 rows\n",
    "df.head()\n"
   ]
  },
  {
   "cell_type": "markdown",
   "metadata": {},
   "source": [
    "### Normalize data"
   ]
  },
  {
   "cell_type": "code",
   "execution_count": 14,
   "metadata": {},
   "outputs": [
    {
     "data": {
      "text/html": [
       "<div>\n",
       "<style scoped>\n",
       "    .dataframe tbody tr th:only-of-type {\n",
       "        vertical-align: middle;\n",
       "    }\n",
       "\n",
       "    .dataframe tbody tr th {\n",
       "        vertical-align: top;\n",
       "    }\n",
       "\n",
       "    .dataframe thead th {\n",
       "        text-align: right;\n",
       "    }\n",
       "</style>\n",
       "<table border=\"1\" class=\"dataframe\">\n",
       "  <thead>\n",
       "    <tr style=\"text-align: right;\">\n",
       "      <th></th>\n",
       "      <th>height_over_sea_level</th>\n",
       "      <th>fall</th>\n",
       "      <th>net_fall</th>\n",
       "      <th>flow</th>\n",
       "      <th>power_of_hydroelectrical_turbine</th>\n",
       "    </tr>\n",
       "  </thead>\n",
       "  <tbody>\n",
       "    <tr>\n",
       "      <th>0</th>\n",
       "      <td>0.990476</td>\n",
       "      <td>0.926723</td>\n",
       "      <td>0.935686</td>\n",
       "      <td>0.388889</td>\n",
       "      <td>0.376846</td>\n",
       "    </tr>\n",
       "    <tr>\n",
       "      <th>1</th>\n",
       "      <td>0.996825</td>\n",
       "      <td>0.968299</td>\n",
       "      <td>0.977381</td>\n",
       "      <td>0.388889</td>\n",
       "      <td>0.384661</td>\n",
       "    </tr>\n",
       "    <tr>\n",
       "      <th>2</th>\n",
       "      <td>0.955556</td>\n",
       "      <td>0.705124</td>\n",
       "      <td>0.692292</td>\n",
       "      <td>0.722222</td>\n",
       "      <td>0.513010</td>\n",
       "    </tr>\n",
       "    <tr>\n",
       "      <th>3</th>\n",
       "      <td>0.950794</td>\n",
       "      <td>0.673942</td>\n",
       "      <td>0.661020</td>\n",
       "      <td>0.722222</td>\n",
       "      <td>0.487877</td>\n",
       "    </tr>\n",
       "    <tr>\n",
       "      <th>4</th>\n",
       "      <td>1.000000</td>\n",
       "      <td>0.984201</td>\n",
       "      <td>0.975035</td>\n",
       "      <td>0.888889</td>\n",
       "      <td>0.835271</td>\n",
       "    </tr>\n",
       "  </tbody>\n",
       "</table>\n",
       "</div>"
      ],
      "text/plain": [
       "   height_over_sea_level      fall  net_fall      flow  \\\n",
       "0               0.990476  0.926723  0.935686  0.388889   \n",
       "1               0.996825  0.968299  0.977381  0.388889   \n",
       "2               0.955556  0.705124  0.692292  0.722222   \n",
       "3               0.950794  0.673942  0.661020  0.722222   \n",
       "4               1.000000  0.984201  0.975035  0.888889   \n",
       "\n",
       "   power_of_hydroelectrical_turbine  \n",
       "0                          0.376846  \n",
       "1                          0.384661  \n",
       "2                          0.513010  \n",
       "3                          0.487877  \n",
       "4                          0.835271  "
      ]
     },
     "execution_count": 14,
     "metadata": {},
     "output_type": "execute_result"
    }
   ],
   "source": [
    "# Normalize the data to 0 - 1 of the first 4 columns\n",
    "for column in df.columns[0:4]:\n",
    "    df[column] = df[column] / df[column].max()\n",
    "\n",
    "# Scale the power_of_hydroelectrical_turbine column to 0.1 - 0.9\n",
    "df['power_of_hydroelectrical_turbine'] = df['power_of_hydroelectrical_turbine'] / df['power_of_hydroelectrical_turbine'].max() * 0.8 + 0.1\n",
    "\n",
    "# Print the first 5 rows\n",
    "df.head()\n"
   ]
  },
  {
   "cell_type": "code",
   "execution_count": 15,
   "metadata": {},
   "outputs": [],
   "source": [
    "# Output the data to a CSV file\n",
    "df.to_csv('A1-turbine-normalized.csv', index=False)"
   ]
  }
 ],
 "metadata": {
  "kernelspec": {
   "display_name": "Python 3",
   "language": "python",
   "name": "python3"
  },
  "language_info": {
   "codemirror_mode": {
    "name": "ipython",
    "version": 3
   },
   "file_extension": ".py",
   "mimetype": "text/x-python",
   "name": "python",
   "nbconvert_exporter": "python",
   "pygments_lexer": "ipython3",
   "version": "3.11.6"
  }
 },
 "nbformat": 4,
 "nbformat_minor": 2
}
